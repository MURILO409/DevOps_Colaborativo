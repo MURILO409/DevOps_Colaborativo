{
 "cells": [
  {
   "cell_type": "code",
   "execution_count": 2,
   "id": "749185cd-5061-4b65-9774-907b1d1885ae",
   "metadata": {},
   "outputs": [
    {
     "name": "stdout",
     "output_type": "stream",
     "text": [
      "Olá Mundo!!!\n"
     ]
    }
   ],
   "source": [
    "print(f\"Olá Mundo!!!\")"
   ]
  },
  {
   "cell_type": "code",
   "execution_count": null,
   "id": "f94d56c3-400c-49b4-8a39-e6677b53a559",
   "metadata": {},
   "outputs": [],
   "source": []
  }
 ],
 "metadata": {
  "kernelspec": {
   "display_name": "Python 3 (ipykernel)",
   "language": "python",
   "name": "python3"
  },
  "language_info": {
   "codemirror_mode": {
    "name": "ipython",
    "version": 3
   },
   "file_extension": ".py",
   "mimetype": "text/x-python",
   "name": "python",
   "nbconvert_exporter": "python",
   "pygments_lexer": "ipython3",
   "version": "3.11.6"
  }
 },
 "nbformat": 4,
 "nbformat_minor": 5
}
